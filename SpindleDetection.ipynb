{
 "cells": [
  {
   "cell_type": "markdown",
   "metadata": {},
   "source": [
    "# Sleep spindles detection"
   ]
  },
  {
   "cell_type": "markdown",
   "metadata": {},
   "source": [
    "## Importations"
   ]
  },
  {
   "cell_type": "markdown",
   "metadata": {},
   "source": [
    "Commençons par importer les librairies utilisées."
   ]
  },
  {
   "cell_type": "code",
   "execution_count": 8,
   "metadata": {},
   "outputs": [],
   "source": [
    "import numpy as np \n",
    "import scipy.signal as sg\n",
    "import matplotlib.pyplot as plt\n",
    "import h5py\n",
    "import importlib\n",
    "import myAlgos"
   ]
  },
  {
   "cell_type": "markdown",
   "metadata": {},
   "source": [
    "Importons maintenant les données EEG."
   ]
  },
  {
   "cell_type": "code",
   "execution_count": 26,
   "metadata": {},
   "outputs": [
    {
     "name": "stdout",
     "output_type": "stream",
     "text": [
      "jour 0 : 7329225 points | 8h 8m 36s\n",
      "jour 1 : 7785250 points | 8h 39m 1s\n",
      "jour 2 : 6761103 points | 7h 30m 44s\n",
      "jour 3 : 7024938 points | 7h 48m 19s\n",
      "jour 4 : 7031288 points | 7h 48m 45s\n",
      "jour 5 : 7744777 points | 8h 36m 19s\n",
      "jour 6 : 7913879 points | 8h 47m 35s\n"
     ]
    }
   ],
   "source": [
    "importlib.reload(myAlgos)\n",
    "data_spindles = h5py.File('data_spindles.h5')    \n",
    "n_days = len(data_spindles) # n=7\n",
    "eeg_signals = [None] * n_days\n",
    "hypnograms = [None] * n_days\n",
    "hypnograms_long = [None] * n_days\n",
    "\n",
    "for i in range(n_days):\n",
    "    path = 'day_' + str(i) + '/'\n",
    "    eeg_signals[i] = data_spindles[path + 'eeg_signal']\n",
    "    hypnograms[i] = data_spindles[path + 'hypnogram']\n",
    "\n",
    "# Cela permet de recuperer un stade de sommeil facilement :\n",
    "for i in range(n_days):\n",
    "    hypnograms_long[i] = np.empty(len(eeg_signals[i]))\n",
    "    hypnograms_long[i][:] = np.nan\n",
    "    len_cast = int(len(eeg_signals[i])/len(hypnograms[i]))\n",
    "    for j in range(len(hypnograms[i])):\n",
    "        hypnograms_long[i][j*len_cast:(j+1)*len_cast] = hypnograms[i][j]\n",
    "    hypnograms_long[i][np.where(np.isnan(hypnograms_long[i]))] = 0\n",
    "# Ainsi, on peut obtenir simplement : stade de sommeil du point eeg_signals[i][124] <=> hypnograms_long[124] \n",
    "\n",
    "for i in range(n_days):\n",
    "    l = len(eeg_signals[i])\n",
    "    t = myAlgos.pointsToTime(l)\n",
    "    print(\"jour %s : %s points | %sh %sm %ss\" %(i, l, t[0], t[1], t[2]))"
   ]
  },
  {
   "cell_type": "markdown",
   "metadata": {},
   "source": [
    "Le signal EEG de chaque jour est accessible par :  ```eeg_signals[jour]```\n",
    "\n",
    "L'hypnogramme d'un point en particulier peut être obtenu par : ```hypnograms_long[jour][point]```."
   ]
  },
  {
   "cell_type": "markdown",
   "metadata": {},
   "source": [
    "## Filtre passe-bande"
   ]
  },
  {
   "cell_type": "markdown",
   "metadata": {},
   "source": [
    "Filtrons le signal entre 11Hz et 15Hz avec un passe-bande Butterworth d'ordre 5."
   ]
  },
  {
   "cell_type": "code",
   "execution_count": 10,
   "metadata": {
    "scrolled": true
   },
   "outputs": [
    {
     "name": "stderr",
     "output_type": "stream",
     "text": [
      "C:\\ProgramData\\Anaconda3\\lib\\site-packages\\scipy\\signal\\_arraytools.py:45: FutureWarning: Using a non-tuple sequence for multidimensional indexing is deprecated; use `arr[tuple(seq)]` instead of `arr[seq]`. In the future this will be interpreted as an array index, `arr[np.array(seq)]`, which will result either in an error or a different result.\n",
      "  b = a[a_slice]\n"
     ]
    }
   ],
   "source": [
    "Fs = 250\n",
    "b,a = sg.butter(5,(11/Fs, 15/Fs),'bandpass')\n",
    "eeg_signals_filt = [None] * n_days\n",
    "for i in range(n_days):\n",
    "    eeg_signals_filt[i] = sg.filtfilt(b,a,eeg_signals[i])"
   ]
  },
  {
   "cell_type": "markdown",
   "metadata": {},
   "source": [
    "## Organisation du signal en epochs"
   ]
  },
  {
   "cell_type": "markdown",
   "metadata": {},
   "source": [
    "Divisons le signal en epochs de 5 secondes :"
   ]
  },
  {
   "cell_type": "code",
   "execution_count": 11,
   "metadata": {},
   "outputs": [],
   "source": [
    "n_pts_epochs = 1250\n",
    "# Il faut rendre le nombre de pts du signal divisible par la taille d'un epoch\n",
    "for i in range(n_days):\n",
    "    reste = len(eeg_signals[i])%n_pts_epochs\n",
    "    eeg_signals[i] = eeg_signals[i][reste:]\n",
    "    eeg_signals_filt[i] = eeg_signals_filt[i][reste:]\n",
    "    hypnograms_long[i] = hypnograms_long[i][reste:]\n",
    "    \n",
    "def signal_to_epochs(eeg_data):\n",
    "    epochs = [None] * n_days\n",
    "    # n epochs, 0.5s/epoch --> (n, 125)\n",
    "    for i in range(n_days):\n",
    "        n_epochs = int(len(eeg_data[i])/n_pts_epochs)\n",
    "        epochs[i] = np.reshape(eeg_data[i], (n_epochs, n_pts_epochs))\n",
    "    return epochs\n",
    "\n",
    "epochs = signal_to_epochs(eeg_signals)\n",
    "epochs_filt = signal_to_epochs(eeg_signals_filt)\n",
    "hypno_epochs = signal_to_epochs(hypnograms_long)"
   ]
  },
  {
   "cell_type": "markdown",
   "metadata": {},
   "source": [
    "Exemple pour acceder à l'epoch 10 du jour 2 : ```epochs[2][10]```.\n",
    "\n",
    "On peut récupérer l'hypnograme d'un epoch par : ```hypno_epoch[jour][epoch]```."
   ]
  },
  {
   "cell_type": "code",
   "execution_count": 13,
   "metadata": {},
   "outputs": [
    {
     "name": "stdout",
     "output_type": "stream",
     "text": [
      "spindles détectées :  4497\n"
     ]
    }
   ],
   "source": [
    "eeg_signals_filt_nan = [None] * n_days\n",
    "for i in range(7):\n",
    "    #Enlever les valeurs excessivement grandes\n",
    "    amp_excess = np.where(np.abs(eeg_signals_filt[i]) > 80)[0]\n",
    "    eeg_signals_filt_nan[i] = np.copy(eeg_signals_filt[i])\n",
    "    eeg_signals_filt_nan[i][amp_excess] = np.NaN\n",
    "\n",
    "epochs_filt_nan = signal_to_epochs(eeg_signals_filt_nan)\n",
    "\n",
    "#Detection des spindles\n",
    "spindles_detected = 0\n",
    "spindles_positions = [None] * n_days\n",
    "spindles_heights = [None] * n_days\n",
    "spindles_length = [None] * n_days\n",
    "\n",
    "fails = np.array([0,0,0,0,0,0])\n",
    "for i in range(n_days): #Parcours par jour\n",
    "    spindles_positions[i] = []\n",
    "    spindles_heights[i] = []\n",
    "    spindles_length[i] = []\n",
    "    for j in range(epochs_filt_nan[i].shape[0]): #Parcours par epoch\n",
    "        if j == 0: continue #petit probleme au tout debut a cause d'artefacts\n",
    "        current_epoch = epochs_filt_nan[i][j]\n",
    "        if (not myAlgos.nanFound(current_epoch)) and \\\n",
    "            myAlgos.threshold_reached(current_epoch) :\n",
    "            \n",
    "            # On se centre autour de la valeur max.\n",
    "            # 600 points <=> 2.4 secondes\n",
    "            max_pos = np.argmax(current_epoch)\n",
    "            max_val = np.max(current_epoch)\n",
    "            window = eeg_signals_filt_nan[i][j*n_pts_epochs + max_pos - 300 : j*n_pts_epochs + max_pos + 300]\n",
    "            if not myAlgos.nanFound(window):    \n",
    "                peaks, peak_properties = sg.find_peaks(window, height=0)\n",
    "                peak_heights = peak_properties['peak_heights']\n",
    "                if max_val == np.max(peak_heights) : #si rien de bizare lors du fenetrage\n",
    "                    wave_peaks, wave_heights = myAlgos.keepWavePeaks(peaks, peak_heights)\n",
    "                    if not myAlgos.isTooShort(wave_peaks): #si >0.5s\n",
    "                        if myAlgos.isSymmetric(wave_heights): #si les cretes sont symmetriques\n",
    "                            if myAlgos.isTooHigh(wave_heights): #Si l'amplitude min n'est pas trop grande\n",
    "                                spindles_detected += 1\n",
    "                                spindles_positions[i].append(j*n_pts_epochs + max_pos)\n",
    "                                spindles_heights[i].append(np.round(np.max(wave_heights),2))\n",
    "                                spindles_length[i].append(myAlgos.waveLength(wave_peaks))\n",
    "                            else :\n",
    "                                fails[5] += 1\n",
    "                                continue\n",
    "                        else :\n",
    "                            fails[4] += 1\n",
    "                            continue\n",
    "                    else :\n",
    "                        fails[3] += 1\n",
    "                        continue\n",
    "                else : \n",
    "                    fails[2] += 1\n",
    "                    continue\n",
    "            else :\n",
    "                fails[1] += 1\n",
    "                continue\n",
    "        else : \n",
    "            fails[0] += 1\n",
    "            continue \n",
    "print('spindles détectées : ', spindles_detected)"
   ]
  },
  {
   "cell_type": "code",
   "execution_count": null,
   "metadata": {},
   "outputs": [],
   "source": []
  }
 ],
 "metadata": {
  "kernelspec": {
   "display_name": "Python 3",
   "language": "python",
   "name": "python3"
  },
  "language_info": {
   "codemirror_mode": {
    "name": "ipython",
    "version": 3
   },
   "file_extension": ".py",
   "mimetype": "text/x-python",
   "name": "python",
   "nbconvert_exporter": "python",
   "pygments_lexer": "ipython3",
   "version": "3.6.3"
  }
 },
 "nbformat": 4,
 "nbformat_minor": 2
}
